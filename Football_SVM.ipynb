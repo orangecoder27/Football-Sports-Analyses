{
 "cells": [
  {
   "cell_type": "code",
   "execution_count": 1,
   "id": "42bdd2c2-f26c-4225-b92e-38fdfa262e3b",
   "metadata": {},
   "outputs": [],
   "source": [
    "import numpy as np\n",
    "import pandas as pd\n",
    "import seaborn as sns\n",
    "import matplotlib.pyplot as plt"
   ]
  },
  {
   "cell_type": "code",
   "execution_count": 2,
   "id": "9cf823c7-a2a8-4c3e-9369-fef0e17406a6",
   "metadata": {},
   "outputs": [
    {
     "name": "stdout",
     "output_type": "stream",
     "text": [
      "                        Rank   P   M   W   D   L   G  GA  GD  Rank.1  ...  \\\n",
      "Team                                                                  ...   \n",
      "Liverpool                  1  84  38  25   9   4  86  41  45       1  ...   \n",
      "Arsenal                    2  74  38  20  14   4  69  34  35       5  ...   \n",
      "Manchester City            3  71  38  21   8   9  72  44  28       2  ...   \n",
      "Chelsea                    4  69  38  20   9   9  64  43  21       3  ...   \n",
      "Newcastle United           5  66  38  20   6  12  68  47  21       6  ...   \n",
      "Aston Villa                6  66  38  19   9  10  58  51   7       4  ...   \n",
      "Nottingham Forest          7  65  38  19   8  11  58  46  12       7  ...   \n",
      "Brighton & Hove Albion     8  61  38  16  13   9  66  59   7       8  ...   \n",
      "AFC Bournemouth            9  56  38  15  11  12  58  46  12      10  ...   \n",
      "Brentford                 10  56  38  16   8  14  66  57   9       9  ...   \n",
      "Fulham                    11  54  38  15   9  14  54  54   0      11  ...   \n",
      "Crystal Palace            12  53  38  13  14  11  51  51   0      12  ...   \n",
      "Everton                   13  48  38  11  15  12  42  44  -2      13  ...   \n",
      "West Ham United           14  43  38  11  10  17  46  62 -16      17  ...   \n",
      "Manchester United         15  42  38  11   9  18  44  54 -10      14  ...   \n",
      "Wolverhampton             16  42  38  12   6  20  54  69 -15      16  ...   \n",
      "Tottenham Hotspur         17  38  38  11   5  22  64  65  -1      15  ...   \n",
      "Leicester City            18  25  38   6   7  25  33  80 -47      18  ...   \n",
      "Ipswich Town              19  22  38   4  10  24  36  82 -46      19  ...   \n",
      "Southampton               20  12  38   2   6  30  26  86 -60      20  ...   \n",
      "\n",
      "                        GD.1  Rank.2  P.2  M.2  W.2  D.2  L.2  G.2  GA.2  GD.2  \n",
      "Team                                                                            \n",
      "Liverpool                 26       1   38   19   11    5    3   44    25    19  \n",
      "Arsenal                   18       2   35   19    9    8    2   34    17    17  \n",
      "Manchester City           20       4   29   19    8    5    6   29    21     8  \n",
      "Chelsea                   17       7   28   19    8    4    7   29    25     4  \n",
      "Newcastle United          20      10   28   19    8    4    7   28    27     1  \n",
      "Aston Villa               14      11   26   19    8    2    9   24    31    -7  \n",
      "Nottingham Forest         10       3   33   19   10    3    6   32    30     2  \n",
      "Brighton & Hove Albion     4       5   29   19    8    5    6   36    33     3  \n",
      "AFC Bournemouth            7       6   28   19    7    7    5   35    30     5  \n",
      "Brentford                  5      12   25   19    7    4    8   26    22     4  \n",
      "Fulham                    -3       8   28   19    8    4    7   27    24     3  \n",
      "Crystal Palace            -2       9   28   19    7    7    5   27    25     2  \n",
      "Everton                    3      13   24   19    6    6    7   16    21    -5  \n",
      "West Ham United          -11      14   23   19    6    5    8   23    28    -5  \n",
      "Manchester United         -5      16   18   19    4    6    9   21    26    -5  \n",
      "Wolverhampton             -5      15   21   19    6    3   10   27    37   -10  \n",
      "Tottenham Hotspur          0      17   17   19    5    2   12   29    30    -1  \n",
      "Leicester City           -19      19   10   19    2    4   13   18    46   -28  \n",
      "Ipswich Town             -30      18   15   19    3    6   10   22    38   -16  \n",
      "Southampton              -34      20    6   19    1    3   15   13    39   -26  \n",
      "\n",
      "[20 rows x 27 columns]\n"
     ]
    }
   ],
   "source": [
    "df=pd.read_csv(\"soccer-standings.csv\", index_col=0);\n",
    "print(df)"
   ]
  },
  {
   "cell_type": "code",
   "execution_count": 3,
   "id": "b7a1104c-b0cd-4f43-914e-d5dbe5523b4f",
   "metadata": {},
   "outputs": [
    {
     "name": "stdout",
     "output_type": "stream",
     "text": [
      "                         W   L\n",
      "Team                          \n",
      "Liverpool               25   4\n",
      "Arsenal                 20   4\n",
      "Manchester City         21   9\n",
      "Chelsea                 20   9\n",
      "Newcastle United        20  12\n",
      "Aston Villa             19  10\n",
      "Nottingham Forest       19  11\n",
      "Brighton & Hove Albion  16   9\n",
      "AFC Bournemouth         15  12\n",
      "Brentford               16  14\n",
      "Fulham                  15  14\n",
      "Crystal Palace          13  11\n",
      "Everton                 11  12\n",
      "West Ham United         11  17\n",
      "Manchester United       11  18\n",
      "Wolverhampton           12  20\n",
      "Tottenham Hotspur       11  22\n",
      "Leicester City           6  25\n",
      "Ipswich Town             4  24\n",
      "Southampton              2  30\n"
     ]
    }
   ],
   "source": [
    "l=df[[\"W\", \"L\"]]\n",
    "print(l)"
   ]
  },
  {
   "cell_type": "code",
   "execution_count": 4,
   "id": "00d76afe-441d-4f23-ba81-008980d626db",
   "metadata": {},
   "outputs": [
    {
     "name": "stdout",
     "output_type": "stream",
     "text": [
      "                         W   L  Half\n",
      "Team                                \n",
      "Liverpool               25   4     1\n",
      "Arsenal                 20   4     1\n",
      "Manchester City         21   9     1\n",
      "Chelsea                 20   9     1\n",
      "Newcastle United        20  12     1\n",
      "Aston Villa             19  10     1\n",
      "Nottingham Forest       19  11     1\n",
      "Brighton & Hove Albion  16   9     1\n",
      "AFC Bournemouth         15  12     1\n",
      "Brentford               16  14     1\n",
      "Fulham                  15  14     1\n",
      "Crystal Palace          13  11    -1\n",
      "Everton                 11  12    -1\n",
      "West Ham United         11  17    -1\n",
      "Manchester United       11  18    -1\n",
      "Wolverhampton           12  20    -1\n",
      "Tottenham Hotspur       11  22    -1\n",
      "Leicester City           6  25    -1\n",
      "Ipswich Town             4  24    -1\n",
      "Southampton              2  30    -1\n"
     ]
    },
    {
     "name": "stderr",
     "output_type": "stream",
     "text": [
      "/tmp/ipykernel_6018/2933508189.py:7: SettingWithCopyWarning: \n",
      "A value is trying to be set on a copy of a slice from a DataFrame.\n",
      "Try using .loc[row_indexer,col_indexer] = value instead\n",
      "\n",
      "See the caveats in the documentation: https://pandas.pydata.org/pandas-docs/stable/user_guide/indexing.html#returning-a-view-versus-a-copy\n",
      "  l[\"Half\"]=l[\"W\"].apply(half)\n"
     ]
    }
   ],
   "source": [
    "def half(n):\n",
    "    if n>14:\n",
    "        return 1\n",
    "    else:\n",
    "        return -1\n",
    "\n",
    "l[\"Half\"]=l[\"W\"].apply(half)\n",
    "print(l)"
   ]
  },
  {
   "cell_type": "code",
   "execution_count": 5,
   "id": "fb1c8e1e-7eb4-46b3-b1e6-923eb01818ca",
   "metadata": {},
   "outputs": [
    {
     "name": "stdout",
     "output_type": "stream",
     "text": [
      "                         W   L  Half\n",
      "Team                                \n",
      "Liverpool               25   4     1\n",
      "Arsenal                 20   4     1\n",
      "Manchester City         21   9     1\n",
      "Chelsea                 20   9     1\n",
      "Newcastle United        20  12     1\n",
      "Aston Villa             19  10     1\n",
      "Nottingham Forest       19  11     1\n",
      "Brighton & Hove Albion  16   9     1\n",
      "AFC Bournemouth         15  12     1\n",
      "Brentford               16  14     1\n",
      "Fulham                  15  14     1\n",
      "Crystal Palace          13  11    -1\n",
      "Everton                 11  12    -1\n",
      "West Ham United         11  17    -1\n",
      "Manchester United       11  18    -1\n",
      "Wolverhampton           12  20    -1\n",
      "Tottenham Hotspur       11  22    -1\n",
      "Leicester City           6  25    -1\n",
      "Ipswich Town             4  24    -1\n",
      "Southampton              2  30    -1\n"
     ]
    }
   ],
   "source": [
    "print(l)"
   ]
  },
  {
   "cell_type": "code",
   "execution_count": 6,
   "id": "a4fbb4e5-666c-4004-a70f-1858e36cb46d",
   "metadata": {},
   "outputs": [
    {
     "data": {
      "text/plain": [
       "<seaborn.axisgrid.FacetGrid at 0x7c7bac932650>"
      ]
     },
     "execution_count": 6,
     "metadata": {},
     "output_type": "execute_result"
    },
    {
     "data": {
      "image/png": "[encoded data removed]",
      "text/plain": [
       "<Figure size 563.75x500 with 1 Axes>"
      ]
     },
     "metadata": {},
     "output_type": "display_data"
    }
   ],
   "source": [
    "sns.relplot(x=l[\"W\"], y=l[\"L\"], hue=l[\"Half\"])"
   ]
  },
  {
   "cell_type": "code",
   "execution_count": 7,
   "id": "9b1d50dc-7275-4b62-8765-9178dd3a7c33",
   "metadata": {},
   "outputs": [
    {
     "name": "stdout",
     "output_type": "stream",
     "text": [
      "                         W   L\n",
      "Team                          \n",
      "Liverpool               25   4\n",
      "Arsenal                 20   4\n",
      "Manchester City         21   9\n",
      "Chelsea                 20   9\n",
      "Newcastle United        20  12\n",
      "Aston Villa             19  10\n",
      "Nottingham Forest       19  11\n",
      "Brighton & Hove Albion  16   9\n",
      "AFC Bournemouth         15  12\n",
      "Brentford               16  14\n",
      "Fulham                  15  14\n",
      "Crystal Palace          13  11\n",
      "Everton                 11  12\n",
      "West Ham United         11  17\n",
      "Manchester United       11  18\n",
      "Wolverhampton           12  20\n",
      "Tottenham Hotspur       11  22\n",
      "Leicester City           6  25\n",
      "Ipswich Town             4  24\n",
      "Southampton              2  30\n",
      "Team\n",
      "Liverpool                 1\n",
      "Arsenal                   1\n",
      "Manchester City           1\n",
      "Chelsea                   1\n",
      "Newcastle United          1\n",
      "Aston Villa               1\n",
      "Nottingham Forest         1\n",
      "Brighton & Hove Albion    1\n",
      "AFC Bournemouth           1\n",
      "Brentford                 1\n",
      "Fulham                    1\n",
      "Crystal Palace           -1\n",
      "Everton                  -1\n",
      "West Ham United          -1\n",
      "Manchester United        -1\n",
      "Wolverhampton            -1\n",
      "Tottenham Hotspur        -1\n",
      "Leicester City           -1\n",
      "Ipswich Town             -1\n",
      "Southampton              -1\n",
      "Name: Half, dtype: int64\n"
     ]
    }
   ],
   "source": [
    "X=l[[\"W\", \"L\"]]\n",
    "y=l[\"Half\"]\n",
    "\n",
    "print(X)\n",
    "print(y)"
   ]
  },
  {
   "cell_type": "code",
   "execution_count": 8,
   "id": "f3a9a24d-087a-4768-87fe-2977d3d3eeb4",
   "metadata": {},
   "outputs": [
    {
     "name": "stdout",
     "output_type": "stream",
     "text": [
      "                    W   L\n",
      "Team                     \n",
      "AFC Bournemouth    15  12\n",
      "Aston Villa        19  10\n",
      "West Ham United    11  17\n",
      "Leicester City      6  25\n",
      "Ipswich Town        4  24\n",
      "Newcastle United   20  12\n",
      "Southampton         2  30\n",
      "Manchester United  11  18\n",
      "Everton            11  12\n",
      "Arsenal            20   4\n",
      "Tottenham Hotspur  11  22\n",
      "Fulham             15  14\n",
      "Nottingham Forest  19  11\n",
      "Brentford          16  14\n",
      "Liverpool          25   4\n"
     ]
    }
   ],
   "source": [
    "from sklearn.model_selection import train_test_split\n",
    "\n",
    "X_train, X_test, y_train, y_test= train_test_split(X, y, test_size=0.25)\n",
    "print(X_train)"
   ]
  },
  {
   "cell_type": "code",
   "execution_count": 9,
   "id": "2d65d824-e5a7-4c46-9881-e32d046256ec",
   "metadata": {},
   "outputs": [],
   "source": [
    "from sklearn import svm\n",
    "\n",
    "model = svm.SVC(kernel=\"linear\")\n",
    "classifier=model.fit(X_train, y_train)"
   ]
  },
  {
   "cell_type": "code",
   "execution_count": 10,
   "id": "a0077fdb-dd97-493c-bab9-9fa87a54df63",
   "metadata": {},
   "outputs": [
    {
     "name": "stdout",
     "output_type": "stream",
     "text": [
      "Team\n",
      "Brighton & Hove Albion    1\n",
      "Crystal Palace           -1\n",
      "Manchester City           1\n",
      "Wolverhampton            -1\n",
      "Chelsea                   1\n",
      "Name: Half, dtype: int64\n",
      "[ 1 -1  1 -1  1]\n"
     ]
    }
   ],
   "source": [
    "y_pred=classifier.predict(X_test)\n",
    "print(y_test)\n",
    "print(y_pred)"
   ]
  },
  {
   "cell_type": "code",
   "execution_count": 11,
   "id": "29bceaf8-6bc6-4bcd-9a0d-d779f86a1d04",
   "metadata": {},
   "outputs": [
    {
     "name": "stdout",
     "output_type": "stream",
     "text": [
      "              precision    recall  f1-score   support\n",
      "\n",
      "          -1       1.00      1.00      1.00         2\n",
      "           1       1.00      1.00      1.00         3\n",
      "\n",
      "    accuracy                           1.00         5\n",
      "   macro avg       1.00      1.00      1.00         5\n",
      "weighted avg       1.00      1.00      1.00         5\n",
      "\n",
      "[[2 0]\n",
      " [0 3]]\n",
      "ACCURACY:  1.0\n"
     ]
    }
   ],
   "source": [
    "from sklearn.metrics import classification_report, confusion_matrix, accuracy_score\n",
    "\n",
    "print(classification_report(y_test, y_pred))\n",
    "print(confusion_matrix(y_test, y_pred))\n",
    "print(\"ACCURACY: \", accuracy_score(y_test, y_pred))"
   ]
  }
 ],
 "metadata": {
  "kernelspec": {
   "display_name": "Python 3 (ipykernel)",
   "language": "python",
   "name": "python3"
  },
  "language_info": {
   "codemirror_mode": {
    "name": "ipython",
    "version": 3
   },
   "file_extension": ".py",
   "mimetype": "text/x-python",
   "name": "python",
   "nbconvert_exporter": "python",
   "pygments_lexer": "ipython3",
   "version": "3.10.12"
  }
 },
 "nbformat": 4,
 "nbformat_minor": 5
}
